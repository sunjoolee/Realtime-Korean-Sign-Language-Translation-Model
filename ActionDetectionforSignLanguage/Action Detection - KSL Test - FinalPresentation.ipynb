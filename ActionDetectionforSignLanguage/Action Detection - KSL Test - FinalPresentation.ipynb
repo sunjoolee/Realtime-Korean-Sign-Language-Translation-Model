{
 "cells": [
  {
   "cell_type": "markdown",
   "metadata": {},
   "source": [
    "# 1. Import and Install Dependencies"
   ]
  },
  {
   "cell_type": "code",
   "execution_count": null,
   "metadata": {},
   "outputs": [],
   "source": [
    "!pip install opencv-python mediapipe scikit-learn matplotlib"
   ]
  },
  {
   "cell_type": "code",
   "execution_count": null,
   "metadata": {
    "scrolled": true
   },
   "outputs": [],
   "source": [
    "import cv2\n",
    "import numpy as np\n",
    "import os\n",
    "from matplotlib import pyplot as plt\n",
    "import time\n",
    "import mediapipe as mp"
   ]
  },
  {
   "cell_type": "markdown",
   "metadata": {},
   "source": [
    "# 2. Keypoints using MP Holistic"
   ]
  },
  {
   "cell_type": "code",
   "execution_count": null,
   "metadata": {},
   "outputs": [],
   "source": [
    "mp_holistic = mp.solutions.holistic # Holistic model\n",
    "mp_drawing = mp.solutions.drawing_utils # Drawing utilities"
   ]
  },
  {
   "cell_type": "code",
   "execution_count": null,
   "metadata": {},
   "outputs": [],
   "source": [
    "def mediapipe_detection(image, model): \n",
    "    #image = feed frame\n",
    "    #model = Holistic model\n",
    "    image = cv2.cvtColor(image, cv2.COLOR_BGR2RGB) # COLOR CONVERSION BGR -> RGB\n",
    "    image.flags.writeable = False                  # Image is no longer writeable\n",
    "    results = model.process(image)                 # Make prediction\n",
    "    image.flags.writeable = True                   # Image is now writeable \n",
    "    image = cv2.cvtColor(image, cv2.COLOR_RGB2BGR) # COLOR COVERSION RGB -> BGR\n",
    "    return image, results"
   ]
  },
  {
   "cell_type": "code",
   "execution_count": null,
   "metadata": {},
   "outputs": [],
   "source": [
    "#connection_drawing_spec 커스텀 (optional)\n",
    "def draw_styled_landmarks(image, results):\n",
    "    #Draw pose connections\n",
    "    mp_drawing.draw_landmarks(image, results.pose_landmarks, mp_holistic.POSE_CONNECTIONS,\n",
    "                             mp_drawing.DrawingSpec(color=(80,22,10), thickness=2, circle_radius=4), \n",
    "                             mp_drawing.DrawingSpec(color=(80,44,121), thickness=2, circle_radius=2)\n",
    "                             ) \n",
    "    # Draw left hand connections\n",
    "    mp_drawing.draw_landmarks(image, results.left_hand_landmarks, mp_holistic.HAND_CONNECTIONS, \n",
    "                             mp_drawing.DrawingSpec(color=(121,22,76), thickness=2, circle_radius=4), \n",
    "                             mp_drawing.DrawingSpec(color=(121,44,250), thickness=2, circle_radius=2)\n",
    "                             ) \n",
    "    # Draw right hand connections  \n",
    "    mp_drawing.draw_landmarks(image, results.right_hand_landmarks, mp_holistic.HAND_CONNECTIONS, \n",
    "                             mp_drawing.DrawingSpec(color=(245,117,66), thickness=2, circle_radius=4), \n",
    "                             mp_drawing.DrawingSpec(color=(245,66,230), thickness=2, circle_radius=2)\n",
    "                             ) "
   ]
  },
  {
   "cell_type": "markdown",
   "metadata": {},
   "source": [
    "# 3. Extract Keypoint Values\n",
    "results의 landmarks값 -> numpy array로 변환하기"
   ]
  },
  {
   "cell_type": "code",
   "execution_count": null,
   "metadata": {},
   "outputs": [],
   "source": [
    "def extract_keypoints(results):\n",
    "    # result의 landmarks의 모든 key point values -> 하나의 numpy array 로 flatten\n",
    "    #if landmarks has no value, fill numpy array with zero\n",
    "    \n",
    "    if results.pose_landmarks: #pose landmarks\n",
    "        pose = np.array([[res.x, res.y, res.z, res.visibility] for res in results.pose_landmarks.landmark]).flatten() \n",
    "    else:\n",
    "        pose = np.zeros(132) #33*4\n",
    "\n",
    "    if results.left_hand_landmarks: #left hand landmarks\n",
    "        lh = np.array([[res.x, res.y, res.z] for res in results.left_hand_landmarks.landmark]).flatten() \n",
    "    else:\n",
    "        lh = np.zeros(63) #21*3\n",
    "\n",
    "    if results.right_hand_landmarks: #right hand landmarks\n",
    "        rh = np.array([[res.x, res.y, res.z] for res in results.right_hand_landmarks.landmark]).flatten() \n",
    "    else:\n",
    "        rh = np.zeros(63) #21*3\n",
    "    \n",
    "    #return np.concatenate([pose, lh, rh])\n",
    "    return np.concatenate([pose, lh, rh])"
   ]
  },
  {
   "cell_type": "markdown",
   "metadata": {},
   "source": [
    "# 4. Setup Folders for Collection"
   ]
  },
  {
   "cell_type": "code",
   "execution_count": null,
   "metadata": {},
   "outputs": [],
   "source": [
    "#pandas\n",
    "!pip install xlrd\n",
    "!pip install openpyxl\n",
    "!pip install pandas\n",
    "import pandas as pd"
   ]
  },
  {
   "cell_type": "code",
   "execution_count": null,
   "metadata": {},
   "outputs": [],
   "source": [
    "#데이터 레이블 정보가 담긴 엑셀 파일\n",
    "annotation_file_name = 'KETI-2018-SL-Annotation-v1.xlsx'\n",
    "\n",
    "#엑셀 파일 데이터 프레임에 읽어오기\n",
    "df = pd.read_excel(\n",
    "    annotation_file_name, \n",
    "    sheet_name = 'KETI-2018-수어데이터-학습용-Annotation')\n",
    "\n",
    "#단어 데이터만 필터링\n",
    "df = df[df['타입(단어/문장)']=='단어']\n",
    "#필요한 열만 추출\n",
    "df = df.filter(items=['파일명', '한국어'], axis=1)\n",
    "#모든 열 string 타입으로 변경\n",
    "df = df.astype({'파일명':'string'},{'한국어':'string'})\n",
    "\n",
    "print(df)"
   ]
  },
  {
   "cell_type": "code",
   "execution_count": null,
   "metadata": {},
   "outputs": [],
   "source": [
    "# Path for exported data, numpy arrays\n",
    "DATA_PATH = os.path.join('MP_Data_KSL_Entire_DataSet') \n",
    "\n",
    "#num of videos\n",
    "no_sequences = 60\n",
    "\n",
    "# 1 Video = 50 frames\n",
    "sequence_length = 50"
   ]
  },
  {
   "cell_type": "code",
   "execution_count": null,
   "metadata": {},
   "outputs": [],
   "source": [
    "for action in actions: #make directory for each actions\n",
    "    for sequence in range(no_sequences): #make directory for each videos per action\n",
    "        try: \n",
    "            os.makedirs(os.path.join(DATA_PATH, action, str(sequence)))\n",
    "        except:\n",
    "            pass"
   ]
  },
  {
   "cell_type": "markdown",
   "metadata": {},
   "source": [
    "# 5. Collect Keypoint Values for Training and Testing"
   ]
  },
  {
   "cell_type": "code",
   "execution_count": null,
   "metadata": {},
   "outputs": [],
   "source": [
    "##extract keypoints from video\n",
    "def frame_capture(action, sequence, video):\n",
    "    cap = cv2.VideoCapture(video)\n",
    "    \n",
    "    # Set mediapipe model \n",
    "    with mp_holistic.Holistic(min_detection_confidence=0.5, min_tracking_confidence=0.5) as holistic:\n",
    "        frame_num = 0\n",
    "        while cap.isOpened():\n",
    "            # Read feed\n",
    "            ret, frame = cap.read()\n",
    "            if ret == False:\n",
    "                break\n",
    "                \n",
    "            # Make detections\n",
    "            image, results = mediapipe_detection(frame, holistic)  \n",
    "            # Draw landmarks\n",
    "            draw_styled_landmarks(image, results)\n",
    "\n",
    "            # Show to screen\n",
    "            cv2.imshow('OpenCV Video', image)\n",
    "\n",
    "            # export keypoints\n",
    "            keypoints = extract_keypoints(results) #results of frame -> numpy array\n",
    "            npy_path = os.path.join(DATA_PATH, action, str(sequence), str(frame_num))\n",
    "            np.save(npy_path, keypoints) #save numpy array in directory\n",
    "            \n",
    "            #increase frame_num\n",
    "            frame_num = frame_num + 1\n",
    "                \n",
    "            # Break gracefully\n",
    "            if cv2.waitKey(10) & 0xFF == ord('q'):\n",
    "                break\n",
    "                \n",
    "        cap.release()\n",
    "        cv2.destroyAllWindows()"
   ]
  },
  {
   "cell_type": "code",
   "execution_count": null,
   "metadata": {},
   "outputs": [],
   "source": [
    "curDir = \"C:/Users/User/Desktop/SCHOOL/2023-1/졸업 프로젝트/수어 데이터셋/최종 발표용/교통사고\"\n",
    "curAction = \"accident\"\n",
    "curSequence = 0\n",
    "for file in os.listdir(curDir):\n",
    "    if(file.endswith(\".mp4\")):\n",
    "        path = os.path.join(curDir, file)\n",
    "        frame_capture(curAction, curSequence, path)\n",
    "        curSequence = curSequence + 1"
   ]
  },
  {
   "cell_type": "markdown",
   "metadata": {},
   "source": [
    "# 6. Preprocess Data and Create Labels and Features"
   ]
  },
  {
   "cell_type": "code",
   "execution_count": null,
   "metadata": {},
   "outputs": [],
   "source": [
    "from sklearn.model_selection import train_test_split\n",
    "from tensorflow.keras.utils import to_categorical"
   ]
  },
  {
   "cell_type": "code",
   "execution_count": null,
   "metadata": {},
   "outputs": [],
   "source": [
    "label_map = {label:num for num, label in enumerate(actions)}"
   ]
  },
  {
   "cell_type": "code",
   "execution_count": null,
   "metadata": {},
   "outputs": [],
   "source": [
    "import fnmatch #폴더 안에 있는 npy 개수 계산하기 위함\n",
    "\n",
    "#create two blank arrays\n",
    "sequences, labels = [], [] \n",
    "#sequences(=videos) = feature data = x data \n",
    "#labels = label data = y data\n",
    "\n",
    "for action in actions: \n",
    "    for sequence in range(no_sequences): #each action has 60 sequences(=videos)\n",
    "        window = []\n",
    "        \n",
    "        #폴더 안에 있는 npy 개수(= frame 수) 계산\n",
    "        file_count = len(fnmatch.filter(os.listdir(os.path.join(DATA_PATH, action, str(sequence))), '*.npy'))\n",
    "        \n",
    "        #저장된 npy 수가 원하는 sequence_length보다 같거나 많을 경우\n",
    "        if(file_count >= sequence_length):  \n",
    "            #앞에 있는 npy 버리고, start부터 끝까지 sequence_length개의 npy 가져오기\n",
    "            start = file_count - sequence_length\n",
    "            for frame_num in range(sequence_length):\n",
    "                res = np.load(os.path.join(DATA_PATH, action, str(sequence), \"{}.npy\".format(start + frame_num)))\n",
    "                window.append(res)\n",
    "        #저장된 npy 수가 원하는 sequence_length보다 적을 경우\n",
    "        else:\n",
    "            #앞에 0으로 채운 npy 추가하기\n",
    "            for frame_num in range(sequence_length - file_count):\n",
    "                res = np.zeros(258) #132 + 63 + 63\n",
    "                window.append(res)\n",
    "            for frame_num in range(file_count):\n",
    "                res = np.load(os.path.join(DATA_PATH, action, str(sequence), \"{}.npy\".format(frame_num)))\n",
    "                window.append(res)\n",
    "                              \n",
    "        #map label\n",
    "        sequences.append(window)\n",
    "        labels.append(label_map[action])"
   ]
  },
  {
   "cell_type": "code",
   "execution_count": null,
   "metadata": {},
   "outputs": [],
   "source": [
    "X = np.array(sequences)"
   ]
  },
  {
   "cell_type": "code",
   "execution_count": null,
   "metadata": {},
   "outputs": [],
   "source": [
    "X.shape"
   ]
  },
  {
   "cell_type": "code",
   "execution_count": null,
   "metadata": {},
   "outputs": [],
   "source": [
    "y = to_categorical(labels).astype(int) \n",
    "#converted label from int to binary array\n",
    "#1 -> [1,0,0], 2 -> [0,1,0], 3 -> [0,0,1]"
   ]
  },
  {
   "cell_type": "code",
   "execution_count": null,
   "metadata": {},
   "outputs": [],
   "source": [
    "X_train, X_test, y_train, y_test = train_test_split(X, y, test_size=0.05)\n",
    "#split x,y data into train data and test data\n",
    "#train data 95%, test data size 5% "
   ]
  },
  {
   "cell_type": "markdown",
   "metadata": {},
   "source": [
    "# 7. Build and Train LSTM Neural Network"
   ]
  },
  {
   "cell_type": "code",
   "execution_count": null,
   "metadata": {},
   "outputs": [],
   "source": [
    "from tensorflow.keras.models import Sequential\n",
    "from tensorflow.keras.layers import LSTM, Dense\n",
    "from tensorflow.keras.callbacks import TensorBoard "
   ]
  },
  {
   "cell_type": "code",
   "execution_count": null,
   "metadata": {},
   "outputs": [],
   "source": [
    "log_dir = os.path.join('Logs')\n",
    "tb_callback = TensorBoard(log_dir=log_dir)\n",
    "#tensor board is used to monitor neural network training and it's accuracy"
   ]
  },
  {
   "cell_type": "code",
   "execution_count": null,
   "metadata": {},
   "outputs": [],
   "source": [
    "#build neural network architecture\n",
    "model = Sequential()\n",
    "drop_rate = 0.3\n",
    "\n",
    "#add 3 lstm layers\n",
    "model.add(LSTM(512, return_sequences=True, activation='tanh', input_shape=(50,258)))\n",
    "model.add(tf.keras.layers.Dropout(drop_rate))\n",
    "model.add(LSTM(256, return_sequences=True, activation='tanh'))\n",
    "model.add(tf.keras.layers.Dropout(drop_rate))\n",
    "model.add(LSTM(128, return_sequences=True, activation='tanh'))\n",
    "model.add(tf.keras.layers.Dropout(drop_rate))\n",
    "model.add(LSTM(64, return_sequences=False, activation='tanh'))\n",
    "model.add(tf.keras.layers.Dropout(drop_rate))\n",
    "#64 lstm units, set return_sequences = false (means end of lstm layers)\n",
    "\n",
    "model.add(Dense(64, activation='relu'))\n",
    "model.add(Dense(32, activation='relu'))\n",
    "model.add(Dense(actions.shape[0], activation='softmax'))"
   ]
  },
  {
   "cell_type": "code",
   "execution_count": null,
   "metadata": {},
   "outputs": [],
   "source": [
    "model.compile(optimizer='Adam', loss='categorical_crossentropy', metrics=['categorical_accuracy'])"
   ]
  },
  {
   "cell_type": "code",
   "execution_count": null,
   "metadata": {
    "scrolled": false
   },
   "outputs": [],
   "source": [
    "model.fit(X_train, y_train, epochs=1000, callbacks=[tb_callback])"
   ]
  },
  {
   "cell_type": "code",
   "execution_count": null,
   "metadata": {},
   "outputs": [],
   "source": [
    "model.summary()"
   ]
  },
  {
   "cell_type": "markdown",
   "metadata": {},
   "source": [
    "# 8. Make Predictions"
   ]
  },
  {
   "cell_type": "code",
   "execution_count": null,
   "metadata": {},
   "outputs": [],
   "source": [
    "predict_res = model.predict(X_test)"
   ]
  },
  {
   "cell_type": "code",
   "execution_count": null,
   "metadata": {},
   "outputs": [],
   "source": [
    "#y_test의 값은 각 label에 해당할 확률 값 ex.[0.1, 0.2, 0.7]\n",
    "#y_test의 값이 가리키는 label 값 = 가장 큰 값을 가진 값\n",
    "actions[np.argmax(predict_res[3])]"
   ]
  },
  {
   "cell_type": "code",
   "execution_count": null,
   "metadata": {},
   "outputs": [],
   "source": [
    "#y_test의 값은 binary array 형식 ex.[0, 0, 1]\n",
    "#y_test의 값이 가리키는 label 값 = 1을 가진 값\n",
    "actions[np.argmax(y_test[3])]"
   ]
  },
  {
   "cell_type": "markdown",
   "metadata": {},
   "source": [
    "# 9. Save Weights"
   ]
  },
  {
   "cell_type": "code",
   "execution_count": null,
   "metadata": {},
   "outputs": [],
   "source": [
    "#단일 file/folder 에 모델의 아키텍처, 가중치 및 훈련 구성을 저장\n",
    "model.save('kslaction.h5')"
   ]
  },
  {
   "cell_type": "code",
   "execution_count": null,
   "metadata": {},
   "outputs": [],
   "source": [
    "del model"
   ]
  },
  {
   "cell_type": "code",
   "execution_count": null,
   "metadata": {},
   "outputs": [],
   "source": [
    "model.load_weights('kslaction_50_frame.h5')"
   ]
  },
  {
   "cell_type": "markdown",
   "metadata": {},
   "source": [
    "# 10. Evaluation using Confusion Matrix and Accuracy"
   ]
  },
  {
   "cell_type": "code",
   "execution_count": null,
   "metadata": {},
   "outputs": [],
   "source": [
    "from sklearn.metrics import multilabel_confusion_matrix, accuracy_score"
   ]
  },
  {
   "cell_type": "code",
   "execution_count": null,
   "metadata": {},
   "outputs": [],
   "source": [
    "yhat = model.predict(X_test)"
   ]
  },
  {
   "cell_type": "code",
   "execution_count": null,
   "metadata": {},
   "outputs": [],
   "source": [
    "#y_test의 값들이 가리키는 label들을 하나의 리스트로 변환\n",
    "#ex. [[0, 0, 1], [0, 1, 0]] -> [2, 1]\n",
    "ytrue = np.argmax(y_test, axis=1).tolist()\n",
    "#yhat의 값들이 가리키는 label들을 하나의 리스트로 변환\n",
    "#ex. [[0.1, 0.2, 0.7], [0.1, 0.8, 0.1]] -> [2, 1]\n",
    "yhat = np.argmax(yhat, axis=1).tolist()"
   ]
  },
  {
   "cell_type": "code",
   "execution_count": null,
   "metadata": {},
   "outputs": [],
   "source": [
    "#returns a confusion matrix sorted by the label order\n",
    "multilabel_confusion_matrix(ytrue, yhat)"
   ]
  },
  {
   "cell_type": "code",
   "execution_count": null,
   "metadata": {},
   "outputs": [],
   "source": [
    "accuracy_score(ytrue, yhat)"
   ]
  },
  {
   "cell_type": "markdown",
   "metadata": {},
   "source": [
    "# 11-0. Translation"
   ]
  },
  {
   "cell_type": "code",
   "execution_count": null,
   "metadata": {},
   "outputs": [],
   "source": [
    "import urllib.request\n",
    "import json"
   ]
  },
  {
   "cell_type": "code",
   "execution_count": null,
   "metadata": {},
   "outputs": [],
   "source": [
    "#papago translation api\n",
    "url = 'https://openapi.naver.com/v1/papago/n2mt'\n",
    "client_id = 'w7qb8_wV1jeo3Mx7iMEg'\n",
    "client_secret = 'CqEcD1gtTd'\n",
    "\n",
    "source = 'ko'\n",
    "target = 'en'\n",
    "\n",
    "def translate(text, target):\n",
    "    encText = urllib.parse.quote(text)\n",
    "    data = f'source={source}&target={target}&text=' + encText\n",
    "    request = urllib.request.Request(url)\n",
    "    request.add_header(\"X-Naver-Client-Id\", client_id)\n",
    "    request.add_header(\"X-Naver-Client-Secret\", client_secret)\n",
    "    response = urllib.request.urlopen(request, data=data.encode(\"utf-8\"))\n",
    "    rescode = response.getcode()\n",
    "\n",
    "    if (rescode == 200):\n",
    "        response_body = response.read()\n",
    "        decode = json.loads(response_body.decode('utf-8'))\n",
    "        result = decode['message']['result']['translatedText']\n",
    "        return result\n",
    "    else:\n",
    "        print(\"Error Code:\" + rescode)\n",
    "        return \"Error Code:\" + rescode"
   ]
  },
  {
   "cell_type": "markdown",
   "metadata": {},
   "source": [
    "# 11-1. Test using video"
   ]
  },
  {
   "cell_type": "code",
   "execution_count": null,
   "metadata": {},
   "outputs": [],
   "source": [
    "# prediction using video\n",
    "def video_prediction(video):\n",
    "    \n",
    "    # 1. detection variables\n",
    "    sequence = [] #collect 60 frames to make a sequence(=video)\n",
    "    sentence = [] #concatenate history of predictions together\n",
    "    threshold = 0.7\n",
    "\n",
    "    cap = cv2.VideoCapture(video)\n",
    "    \n",
    "    #clear subtitles when {clear_cycle} frames passed without new subtitle added\n",
    "    frames_without_new_subtitle = 0\n",
    "    clear_cycle = 300\n",
    "    \n",
    "    # Set mediapipe model \n",
    "    with mp_holistic.Holistic(min_detection_confidence=0.5, min_tracking_confidence=0.5) as holistic:\n",
    "        while cap.isOpened():\n",
    "            # Read video\n",
    "            ret, frame = cap.read()\n",
    "            if ret == False:\n",
    "                break\n",
    "                \n",
    "            # Make detections\n",
    "            image, results = mediapipe_detection(frame, holistic)\n",
    "            print(results)\n",
    "            # Draw landmarks\n",
    "            draw_styled_landmarks(image, results)\n",
    "\n",
    "            # 2. Prediction logic\n",
    "            keypoints = extract_keypoints(results)\n",
    "            sequence.append(keypoints)\n",
    "            sequence = sequence[-60:] #generate sequence with last 30 frames\n",
    "            \n",
    "            frames_without_new_subtitle += 1\n",
    "\n",
    "            if len(sequence) == 60:\n",
    "                #sequence.shape = (60, 1662)\n",
    "                #the input shape model expects = (number of sequences, 60, 1662)\n",
    "                res = model.predict(np.expand_dims(sequence, axis=0))[0]\n",
    "                print(actions[np.argmax(res)])\n",
    "\n",
    "                #3. Rendering logic\n",
    "                #ex. res = [0.1, 0.2, 0.7]\n",
    "                #np.argmax(res) = 2, res[np.argmax(res)] = 0.7\n",
    "                if res[np.argmax(res)] > threshold: \n",
    "                    #new subtitle added\n",
    "                    frames_without_new_subtitle = 0\n",
    "\n",
    "                    cur_action_korean = actions_korean[np.argmax(res)]\n",
    "\n",
    "                    if len(sentence) > 0: \n",
    "                        #sentence에 저장된 prediction이 있는 경우 \n",
    "                        #새로운 prediction인 경우에만 sentence에 추가\n",
    "                        if cur_action_korean != sentence[-1]:\n",
    "                            sentence.append(cur_action_korean)\n",
    "                    else: \n",
    "                        #sentence에 저장된 prediction 없는 경우 바로 sentence에 추가\n",
    "                        sentence.append(cur_action_korean)\n",
    "\n",
    "                    #sentence가 너무 길어지지 않도록 마지막 5개의 prediction만 유지\n",
    "                    if len(sentence) > 5: \n",
    "                        sentence = sentence[-5:]\n",
    "                \n",
    "                #Clear subtitles if needed\n",
    "                if frames_without_new_subtitle >= clear_cycle:\n",
    "                    sentence.clear()\n",
    "                \n",
    "                #Render subtitles\n",
    "                cv2.rectangle(image, (0,0), (640, 40), (0, 0, 0), -1) \n",
    "                if target == 'ko':\n",
    "                    #putKoreanText(src, text, pos, font_size, font_color\n",
    "                    image = putKoreanText(image, ' '.join(sentence), (3,10), 20, (255, 255, 255))\n",
    "                else:\n",
    "                    cv2.putText(image, ' '.join(sentence), (3,30), cv2.FONT_HERSHEY_SIMPLEX, 1, (255,255,255), 2, cv2.LINE_AA)\n",
    "\n",
    "                # Show to screen\n",
    "                cv2.imshow('Video Prediction', image)\n",
    "\n",
    "            # Break gracefully\n",
    "            if cv2.waitKey(10) & 0xFF == ord('q'):\n",
    "                break\n",
    "                \n",
    "        cap.release()\n",
    "        cv2.destroyAllWindows()"
   ]
  },
  {
   "cell_type": "code",
   "execution_count": null,
   "metadata": {},
   "outputs": [],
   "source": [
    "curDir = \"C:/Users/User/Desktop/SCHOOL/2023-1/졸업 프로젝트/수어 데이터셋/최종 발표용/아랫집에불이났어요\"\n",
    "for file in os.listdir(curDir):\n",
    "    if(file.endswith(\".mp4\")):\n",
    "        path = os.path.join(curDir, file)\n",
    "        video_prediction(path)"
   ]
  },
  {
   "cell_type": "markdown",
   "metadata": {},
   "source": [
    "# 11-2. Test in Real Time"
   ]
  },
  {
   "cell_type": "code",
   "execution_count": null,
   "metadata": {},
   "outputs": [],
   "source": [
    "actions_korean = ['집', '도둑', '숨이 안쉬어져요', '아래', '불이 났어요', '낯선사람', '교통사고']"
   ]
  },
  {
   "cell_type": "code",
   "execution_count": null,
   "metadata": {},
   "outputs": [],
   "source": [
    "#한글 텍스트 출력\n",
    "from PIL import ImageFont, ImageDraw, Image\n",
    "\n",
    "def putKoreanText(src, text, pos, font_size, font_color):\n",
    "    img_pil = Image.fromarray(src)\n",
    "    draw = ImageDraw.Draw(img_pil)\n",
    "    font = ImageFont.truetype('C:/Users/User/ActionDetectionforSignLanguage/fonts/gulim.ttc', font_size)\n",
    "    draw.text(pos, text, font=font, fill= font_color)\n",
    "    return np.array(img_pil)\n"
   ]
  },
  {
   "cell_type": "code",
   "execution_count": null,
   "metadata": {
    "scrolled": false
   },
   "outputs": [],
   "source": [
    "# 1. detection variables\n",
    "sequence = [] #collect 60 frames to make a sequence(=video)\n",
    "sentence = [] #concatenate history of predictions together\n",
    "threshold = 0.7\n",
    "\n",
    "\n",
    "cap = cv2.VideoCapture(0)\n",
    "\n",
    "with mp_holistic.Holistic(min_detection_confidence=0.5, min_tracking_confidence=0.5) as holistic:\n",
    "    while cap.isOpened():\n",
    "\n",
    "        # Read feed\n",
    "        ret, frame = cap.read()\n",
    "        # Make detections\n",
    "        image, results = mediapipe_detection(frame, holistic)\n",
    "        print(results)\n",
    "        # Draw landmarks\n",
    "        draw_styled_landmarks(image, results)\n",
    "        \n",
    "        # 2. Prediction logic\n",
    "        keypoints = extract_keypoints(results)\n",
    "        sequence.append(keypoints)\n",
    "        sequence = sequence[-50:] #generate sequence with last 30 frames\n",
    "        \n",
    "        if len(sequence) == 50:\n",
    "            #sequence.shape = (60, 1662)\n",
    "            #the input shape model expects = (number of sequences, 60, 1662)\n",
    "            res = model.predict(np.expand_dims(sequence, axis=0))[0] #predict one sequence at a time\n",
    "            print(actions[np.argmax(res)])\n",
    "            \n",
    "            #3. Rendering logic\n",
    "            #ex. res = [0.1, 0.2, 0.7]\n",
    "            #np.argmax(res) = 2, res[np.argmax(res)] = 0.7\n",
    "            if res[np.argmax(res)] > threshold: \n",
    "                cur_action_korean = actions_korean[np.argmax(res)]\n",
    "                \n",
    "                if len(sentence) > 0: \n",
    "                    #sentence에 저장된 prediction이 있는 경우 \n",
    "                    #새로운 prediction인 경우에만 sentence에 추가\n",
    "                    if cur_action_korean != sentence[-1]:\n",
    "                        sentence.append(cur_action_korean)\n",
    "                else: \n",
    "                    #sentence에 저장된 prediction 없는 경우 바로 sentence에 추가\n",
    "                    sentence.append(cur_action_korean)\n",
    "            \n",
    "            #sentence가 너무 길어지지 않도록 마지막 5개의 prediction만 유지\n",
    "            if len(sentence) > 5: \n",
    "                sentence = sentence[-5:]\n",
    "\n",
    "            #Visualize probabilities\n",
    "            #image = prob_viz(res, actions, image, colors)\n",
    "            \n",
    "            #cv2.rectangle(image, (0,0), (640, 40), (245, 117, 16), -1)\n",
    "            cv2.rectangle(image, (0,0), (640, 40), (0, 0, 0), -1) \n",
    "            \n",
    "            #cv2.putText(image, ' '.join(sentence), (3,30), cv2.FONT_HERSHEY_SIMPLEX, 1, (255,255,255), 2, cv2.LINE_AA)\n",
    "        \n",
    "            #putKoreanText(src, text, pos, font_size, font_color\n",
    "            image = putKoreanText(image, ' '.join(sentence), (3,10), 20, (255, 255, 255))\n",
    "            \n",
    "           \n",
    "            # Show to screen\n",
    "            cv2.imshow('OpenCV Feed', image)\n",
    "\n",
    "        # Break gracefully\n",
    "        if cv2.waitKey(10) & 0xFF == ord('q'):\n",
    "            break\n",
    "            \n",
    "    cap.release()\n",
    "    cv2.destroyAllWindows()"
   ]
  }
 ],
 "metadata": {
  "kernelspec": {
   "display_name": "tfkernel",
   "language": "python",
   "name": "tf"
  },
  "language_info": {
   "codemirror_mode": {
    "name": "ipython",
    "version": 3
   },
   "file_extension": ".py",
   "mimetype": "text/x-python",
   "name": "python",
   "nbconvert_exporter": "python",
   "pygments_lexer": "ipython3",
   "version": "3.9.16"
  }
 },
 "nbformat": 4,
 "nbformat_minor": 2
}
