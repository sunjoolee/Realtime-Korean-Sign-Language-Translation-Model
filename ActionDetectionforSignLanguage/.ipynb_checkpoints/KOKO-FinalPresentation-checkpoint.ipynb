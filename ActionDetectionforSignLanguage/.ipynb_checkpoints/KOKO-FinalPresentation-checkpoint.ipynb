{
 "cells": [
  {
   "cell_type": "markdown",
   "metadata": {},
   "source": [
    "# 1. Import and Install Dependencies"
   ]
  },
  {
   "cell_type": "code",
   "execution_count": null,
   "metadata": {},
   "outputs": [],
   "source": [
    "!pip install opencv-python mediapipe scikit-learn matplotlib\n",
    "import cv2\n",
    "import numpy as np\n",
    "import os\n",
    "from matplotlib import pyplot as plt\n",
    "import time\n",
    "import mediapipe as mp"
   ]
  },
  {
   "cell_type": "markdown",
   "metadata": {},
   "source": [
    "# 2. Keypoints using MP Holistic"
   ]
  },
  {
   "cell_type": "code",
   "execution_count": null,
   "metadata": {},
   "outputs": [],
   "source": [
    "mp_holistic = mp.solutions.holistic # Holistic model\n",
    "mp_drawing = mp.solutions.drawing_utils # Drawing utilities"
   ]
  },
  {
   "cell_type": "code",
   "execution_count": null,
   "metadata": {},
   "outputs": [],
   "source": [
    "def mediapipe_detection(image, model): \n",
    "    #image = feed frame\n",
    "    #model = Holistic model\n",
    "    image = cv2.cvtColor(image, cv2.COLOR_BGR2RGB) # COLOR CONVERSION BGR -> RGB\n",
    "    image.flags.writeable = False                  # Image is no longer writeable\n",
    "    results = model.process(image)                 # Make prediction\n",
    "    image.flags.writeable = True                   # Image is now writeable \n",
    "    image = cv2.cvtColor(image, cv2.COLOR_RGB2BGR) # COLOR COVERSION RGB -> BGR\n",
    "    return image, results"
   ]
  },
  {
   "cell_type": "code",
   "execution_count": null,
   "metadata": {},
   "outputs": [],
   "source": [
    "#customed connection_drawing_spec\n",
    "def draw_styled_landmarks(image, results):\n",
    "    # Draw pose connections\n",
    "    mp_drawing.draw_landmarks(image, results.pose_landmarks, mp_holistic.POSE_CONNECTIONS,\n",
    "                             mp_drawing.DrawingSpec(color=(80,22,10), thickness=2, circle_radius=4), \n",
    "                             mp_drawing.DrawingSpec(color=(80,44,121), thickness=2, circle_radius=2)\n",
    "                             ) \n",
    "    # Draw left hand connections\n",
    "    mp_drawing.draw_landmarks(image, results.left_hand_landmarks, mp_holistic.HAND_CONNECTIONS, \n",
    "                             mp_drawing.DrawingSpec(color=(121,22,76), thickness=2, circle_radius=4), \n",
    "                             mp_drawing.DrawingSpec(color=(121,44,250), thickness=2, circle_radius=2)\n",
    "                             ) \n",
    "    # Draw right hand connections  \n",
    "    mp_drawing.draw_landmarks(image, results.right_hand_landmarks, mp_holistic.HAND_CONNECTIONS, \n",
    "                             mp_drawing.DrawingSpec(color=(245,117,66), thickness=2, circle_radius=4), \n",
    "                             mp_drawing.DrawingSpec(color=(245,66,230), thickness=2, circle_radius=2)\n",
    "                             ) "
   ]
  },
  {
   "cell_type": "markdown",
   "metadata": {},
   "source": [
    "# 3. Extract Keypoint Values\n",
    "results의 landmarks값 -> numpy array로 변환하기"
   ]
  },
  {
   "cell_type": "code",
   "execution_count": null,
   "metadata": {},
   "outputs": [],
   "source": [
    "def extract_keypoints(results):\n",
    "    #result의 landmarks의 모든 key point values -> 하나의 numpy array 로 flatten\n",
    "    #if landmarks has no value, fill numpy array with zero\n",
    "    if results.pose_landmarks: #pose landmarks\n",
    "        pose = np.array([[res.x, res.y, res.z, res.visibility] for res in results.pose_landmarks.landmark]).flatten() \n",
    "    else:\n",
    "        pose = np.zeros(132) #33*4\n",
    "\n",
    "    if results.left_hand_landmarks: #left hand landmarks\n",
    "        lh = np.array([[res.x, res.y, res.z] for res in results.left_hand_landmarks.landmark]).flatten() \n",
    "    else:\n",
    "        lh = np.zeros(63) #21*3\n",
    "\n",
    "    if results.right_hand_landmarks: #right hand landmarks\n",
    "        rh = np.array([[res.x, res.y, res.z] for res in results.right_hand_landmarks.landmark]).flatten() \n",
    "    else:\n",
    "        rh = np.zeros(63) #21*3\n",
    "    \n",
    "    return np.concatenate([pose, lh, rh])"
   ]
  },
  {
   "cell_type": "markdown",
   "metadata": {},
   "source": [
    "# 4. Setup Folders for Collection"
   ]
  },
  {
   "cell_type": "code",
   "execution_count": null,
   "metadata": {},
   "outputs": [],
   "source": [
    "# Path for exported data, numpy arrays\n",
    "DATA_PATH = os.path.join('MP_Data_KSL_FinalPresentation') \n",
    "\n",
    "# Actions that we try to detect\n",
    "actions = np.array(['house', 'thief', 'outofbreath', 'down', 'fire', 'stranger', 'car_accident'])\n",
    "\n",
    "#num of videos\n",
    "no_sequences = 60\n",
    "\n",
    "# 1 Video = 50 frames\n",
    "sequence_length = 50"
   ]
  },
  {
   "cell_type": "code",
   "execution_count": null,
   "metadata": {},
   "outputs": [],
   "source": [
    "for action in actions: #make directory for each actions\n",
    "    for sequence in range(no_sequences): #make directory for each videos per action\n",
    "        try: \n",
    "            os.makedirs(os.path.join(DATA_PATH, action, str(sequence)))\n",
    "        except:\n",
    "            pass"
   ]
  },
  {
   "cell_type": "markdown",
   "metadata": {},
   "source": [
    "# 5. Collect Keypoint Values for Training and Testing"
   ]
  },
  {
   "cell_type": "code",
   "execution_count": null,
   "metadata": {},
   "outputs": [],
   "source": [
    "##extract keypoints from video\n",
    "def frame_capture(action, sequence, video):\n",
    "    cap = cv2.VideoCapture(video)\n",
    "    \n",
    "    # Set mediapipe model \n",
    "    with mp_holistic.Holistic(min_detection_confidence=0.5, min_tracking_confidence=0.5) as holistic:\n",
    "        frame_num = 0\n",
    "        while cap.isOpened():\n",
    "            # Read feed\n",
    "            ret, frame = cap.read()\n",
    "            if ret == False:\n",
    "                break\n",
    "                \n",
    "            # Make detections\n",
    "            image, results = mediapipe_detection(frame, holistic)  \n",
    "            # Draw landmarks\n",
    "            draw_styled_landmarks(image, results)\n",
    "\n",
    "            # Show to screen\n",
    "            #cv2.imshow('OpenCV Video', image)\n",
    "\n",
    "            # export keypoints\n",
    "            keypoints = extract_keypoints(results) #results of frame -> numpy array\n",
    "            npy_path = os.path.join(DATA_PATH, action, str(sequence), str(frame_num))\n",
    "            np.save(npy_path, keypoints) #save numpy array in directory\n",
    "            \n",
    "            #increase frame_num\n",
    "            frame_num = frame_num + 1\n",
    "                \n",
    "            # Break gracefully\n",
    "            if cv2.waitKey(10) & 0xFF == ord('q'):\n",
    "                break\n",
    "                \n",
    "        cap.release()\n",
    "        cv2.destroyAllWindows()"
   ]
  },
  {
   "cell_type": "code",
   "execution_count": null,
   "metadata": {},
   "outputs": [],
   "source": [
    "curDir = \"C:/Users/wjdgu/Downloads/불\"\n",
    "curAction = \"afire\"\n",
    "curSequence = 0\n",
    "for file in os.listdir(curDir):\n",
    "    if(file.endswith(\".mp4\")):\n",
    "        path = os.path.join(curDir, file)\n",
    "        frame_capture(curAction, curSequence, path)\n",
    "        curSequence = curSequence + 1"
   ]
  },
  {
   "cell_type": "markdown",
   "metadata": {},
   "source": [
    "# 6. Preprocess Data and Create Labels and Features"
   ]
  },
  {
   "cell_type": "code",
   "execution_count": null,
   "metadata": {},
   "outputs": [],
   "source": [
    "from sklearn.model_selection import train_test_split\n",
    "from tensorflow.keras.utils import to_categorical"
   ]
  },
  {
   "cell_type": "code",
   "execution_count": null,
   "metadata": {},
   "outputs": [],
   "source": [
    "label_map = {label:num for num, label in enumerate(actions)}"
   ]
  },
  {
   "cell_type": "code",
   "execution_count": null,
   "metadata": {},
   "outputs": [],
   "source": [
    "#create two blank arrays\n",
    "sequences, labels = [], [] \n",
    "#sequences(=videos) = feature data = x data \n",
    "#labels = label data = y data\n",
    "\n",
    "for action in actions: \n",
    "    for sequence in range(no_sequences): #each action has 50 sequences(=videos)\n",
    "        window = []\n",
    "\n",
    "        frame_tmp = 30        \n",
    "        while frame_tmp < 80:            \n",
    "            res = np.load(os.path.join(DATA_PATH, action, str(sequence), \"{}.npy\".format(frame_tmp)))\n",
    "            window.append(res)\n",
    "            frame_tmp = frame_tmp + 1\n",
    "        \n",
    "        #map label\n",
    "        sequences.append(window)\n",
    "        labels.append(label_map[action])"
   ]
  },
  {
   "cell_type": "code",
   "execution_count": null,
   "metadata": {},
   "outputs": [],
   "source": [
    "X = np.array(sequences)"
   ]
  },
  {
   "cell_type": "code",
   "execution_count": null,
   "metadata": {},
   "outputs": [],
   "source": [
    "X.shape"
   ]
  },
  {
   "cell_type": "code",
   "execution_count": null,
   "metadata": {},
   "outputs": [],
   "source": [
    "y = to_categorical(labels).astype(int) \n",
    "#converted label from int to binary array"
   ]
  },
  {
   "cell_type": "code",
   "execution_count": null,
   "metadata": {},
   "outputs": [],
   "source": [
    "X_train, X_test, y_train, y_test = train_test_split(X, y, test_size=0.05)\n",
    "#split x,y data into train data and test data\n",
    "#train data 95%, test data size 5% "
   ]
  },
  {
   "cell_type": "markdown",
   "metadata": {},
   "source": [
    "# 7. Build and Train LSTM Neural Network"
   ]
  },
  {
   "cell_type": "code",
   "execution_count": null,
   "metadata": {},
   "outputs": [],
   "source": [
    "from tensorflow.keras.models import Sequential\n",
    "from tensorflow.keras.layers import LSTM, Dense\n",
    "from tensorflow.keras.callbacks import TensorBoard "
   ]
  },
  {
   "cell_type": "code",
   "execution_count": null,
   "metadata": {},
   "outputs": [],
   "source": [
    "log_dir = os.path.join('Logs')\n",
    "tb_callback = TensorBoard(log_dir=log_dir)\n",
    "#tensor board is used to monitor neural network training and it's accuracy"
   ]
  },
  {
   "cell_type": "code",
   "execution_count": null,
   "metadata": {},
   "outputs": [],
   "source": [
    "#build neural network architecture\n",
    "model = Sequential()\n",
    "\n",
    "#add 3 lstm layers\n",
    "model.add(LSTM(64, return_sequences=True, activation='relu', input_shape=(50,258)))\n",
    "#64 lstm units, set return_sequences = true to stack lstm layers together\n",
    "#input shape = 120 frames per prediction * 258 keypoints per frame \n",
    "model.add(LSTM(128, return_sequences=True, activation='relu'))\n",
    "#128 lstm units, set return_sequences = true\n",
    "model.add(LSTM(64, return_sequences=False, activation='relu'))\n",
    "#64 lstm units, set return_sequences = false (means end of lstm layers)\n",
    "\n",
    "#add 3 dense layers (dense = fully connected neural network)\n",
    "model.add(Dense(64, activation='relu'))\n",
    "#64 dense units\n",
    "model.add(Dense(32, activation='relu'))\n",
    "#32 dense units\n",
    "model.add(Dense(actions.shape[0], activation='softmax'))\n",
    "#activation function =  softmax (return values within 0~1, make sum of all values added up to 1)\n",
    "#actions.shape[0] (=size of actions) = 3 (hello, thanks, iloveyou)"
   ]
  },
  {
   "cell_type": "code",
   "execution_count": null,
   "metadata": {},
   "outputs": [],
   "source": [
    "model.compile(optimizer='Adam', loss='categorical_crossentropy', metrics=['categorical_accuracy'])\n"
   ]
  },
  {
   "cell_type": "code",
   "execution_count": null,
   "metadata": {
    "scrolled": true
   },
   "outputs": [],
   "source": [
    "import tensorflow as tf\n",
    "\n",
    "class myCallback(tf.keras.callbacks.Callback):\n",
    "  def on_epoch_end(self, epoch, logs={}):\n",
    "    if(logs.get('categorical_accuracy') > 0.80 and epoch > 150):\n",
    "      print(\"/n정확도가 80%에 도달하여 훈련을 멈춥니다.\")\n",
    "      self.model.stop_training = True\n",
    "\n",
    "callbacks = myCallback()\n",
    "\n",
    "\n",
    "model.fit(X_train, y_train, epochs=2000, callbacks=[callbacks])"
   ]
  },
  {
   "cell_type": "code",
   "execution_count": null,
   "metadata": {},
   "outputs": [],
   "source": [
    "model.summary()"
   ]
  },
  {
   "cell_type": "markdown",
   "metadata": {},
   "source": [
    "# 8. Make Predictions"
   ]
  },
  {
   "cell_type": "code",
   "execution_count": null,
   "metadata": {},
   "outputs": [],
   "source": [
    "predict_res = model.predict(X_test)"
   ]
  },
  {
   "cell_type": "code",
   "execution_count": null,
   "metadata": {},
   "outputs": [],
   "source": [
    "#y_test의 값이 가리키는 label 값 = 가장 큰 값을 가진 값\n",
    "actions[np.argmax(predict_res[3])]"
   ]
  },
  {
   "cell_type": "code",
   "execution_count": null,
   "metadata": {},
   "outputs": [],
   "source": [
    "#y_test의 값이 가리키는 label 값 = 1을 가진 값\n",
    "actions[np.argmax(y_test[3])]"
   ]
  },
  {
   "cell_type": "markdown",
   "metadata": {},
   "source": [
    "# 9. Save Weights"
   ]
  },
  {
   "cell_type": "code",
   "execution_count": null,
   "metadata": {},
   "outputs": [],
   "source": [
    "#단일 file/folder 에 모델의 아키텍처, 가중치 및 훈련 구성을 저장\n",
    "model.save('kslaction_50_frame.h5')"
   ]
  },
  {
   "cell_type": "code",
   "execution_count": null,
   "metadata": {},
   "outputs": [],
   "source": [
    "del model"
   ]
  },
  {
   "cell_type": "code",
   "execution_count": null,
   "metadata": {},
   "outputs": [],
   "source": [
    "model.load_weights('kslaction_50_frame.h5')"
   ]
  },
  {
   "cell_type": "markdown",
   "metadata": {},
   "source": [
    "# 10. Evaluation using Confusion Matrix and Accuracy"
   ]
  },
  {
   "cell_type": "code",
   "execution_count": null,
   "metadata": {},
   "outputs": [],
   "source": [
    "from sklearn.metrics import multilabel_confusion_matrix, accuracy_score"
   ]
  },
  {
   "cell_type": "code",
   "execution_count": null,
   "metadata": {},
   "outputs": [],
   "source": [
    "yhat = model.predict(X_test)"
   ]
  },
  {
   "cell_type": "code",
   "execution_count": null,
   "metadata": {},
   "outputs": [],
   "source": [
    "#y_test의 값들이 가리키는 label들을 하나의 리스트로 변환\n",
    "ytrue = np.argmax(y_test, axis=1).tolist()\n",
    "#yhat의 값들이 가리키는 label들을 하나의 리스트로 변환\n",
    "yhat = np.argmax(yhat, axis=1).tolist()"
   ]
  },
  {
   "cell_type": "code",
   "execution_count": null,
   "metadata": {},
   "outputs": [],
   "source": [
    "#returns a confusion matrix sorted by the label order\n",
    "multilabel_confusion_matrix(ytrue, yhat)"
   ]
  },
  {
   "cell_type": "code",
   "execution_count": null,
   "metadata": {},
   "outputs": [],
   "source": [
    "accuracy_score(ytrue, yhat)"
   ]
  },
  {
   "cell_type": "markdown",
   "metadata": {},
   "source": [
    "# 11. Test in Real Time"
   ]
  },
  {
   "cell_type": "code",
   "execution_count": null,
   "metadata": {},
   "outputs": [],
   "source": [
    "actions_korean = ['집', '도둑', '숨이 안쉬어져요', '아래', '불이 났어요', '낯선사람', '교통사고']"
   ]
  },
  {
   "cell_type": "code",
   "execution_count": null,
   "metadata": {},
   "outputs": [],
   "source": [
    "#한글 텍스트 출력\n",
    "from PIL import ImageFont, ImageDraw, Image\n",
    "\n",
    "def putKoreanText(src, text, pos, font_size, font_color):\n",
    "    img_pil = Image.fromarray(src)\n",
    "    draw = ImageDraw.Draw(img_pil)\n",
    "    font = ImageFont.truetype('C:/Users/User/ActionDetectionforSignLanguage/fonts/gulim.ttc', font_size)\n",
    "    draw.text(pos, text, font=font, fill= font_color)\n",
    "    return np.array(img_pil)"
   ]
  },
  {
   "cell_type": "code",
   "execution_count": null,
   "metadata": {},
   "outputs": [],
   "source": [
    "# 1. Detection variables\n",
    "sequence = [] #collect 50 frames to make a sequence(=video)\n",
    "sentence = [] #concatenate history of predictions together\n",
    "threshold = 0.999\n",
    "\n",
    "cap = cv2.VideoCapture(0)\n",
    "\n",
    "with mp_holistic.Holistic(min_detection_confidence=0.5, min_tracking_confidence=0.5) as holistic:\n",
    "    while cap.isOpened():\n",
    "\n",
    "        # Read feed\n",
    "        ret, frame = cap.read()\n",
    "        # Make detections\n",
    "        image, results = mediapipe_detection(frame, holistic)\n",
    "        print(results)\n",
    "        # Draw landmarks\n",
    "        draw_styled_landmarks(image, results)\n",
    "        \n",
    "        # 2. Prediction logic\n",
    "        keypoints = extract_keypoints(results)\n",
    "        sequence.append(keypoints)\n",
    "        sequence = sequence[-50:] #generate sequence with last 30 frames\n",
    "        \n",
    "        if len(sequence) == 50:\n",
    "            #sequence.shape = (50, 258)\n",
    "            #the input shape model expects = (number of sequences, 50, 258)\n",
    "            res = model.predict(np.expand_dims(sequence, axis=0))[0] #predict one sequence at a time\n",
    "            print(actions[np.argmax(res)])\n",
    "        \n",
    "         #3. Rendering logic\n",
    "            if res[np.argmax(res)] > threshold: \n",
    "                cur_action_korean = actions_korean[np.argmax(res)]\n",
    "                \n",
    "                if len(sentence) > 0: \n",
    "                    #sentence에 저장된 prediction이 있는 경우 \n",
    "                    #새로운 prediction인 경우에만 sentence에 추가\n",
    "                    if cur_action_korean != sentence[-1]:\n",
    "                        sentence.append(cur_action_korean)\n",
    "                else: \n",
    "                    #sentence에 저장된 prediction 없는 경우 바로 sentence에 추가\n",
    "                    sentence.append(cur_action_korean)\n",
    "            \n",
    "            #sentence가 너무 길어지지 않도록 마지막 5개의 prediction만 유지\n",
    "            if len(sentence) > 5: \n",
    "                sentence = sentence[-5:]\n",
    "\n",
    "\n",
    "            cv2.rectangle(image, (0,0), (640, 40), (0, 0, 0), -1) \n",
    "            #putKoreanText(src, text, pos, font_size, font_color\n",
    "            image = putKoreanText(image, ' '.join(sentence), (3,10), 20, (255, 255, 255))\n",
    "            \n",
    "           \n",
    "            # Show to screen\n",
    "            cv2.imshow('OpenCV Feed', image)\n",
    "\n",
    "        # Break gracefully\n",
    "        if cv2.waitKey(10) & 0xFF == ord('q'):\n",
    "            break\n",
    "    cap.release()\n",
    "    cv2.destroyAllWindows()"
   ]
  },
  {
   "cell_type": "code",
   "execution_count": null,
   "metadata": {},
   "outputs": [],
   "source": [
    "# prediction using video\n",
    "def video_prediction(video):\n",
    "    \n",
    "    # 1. detection variables\n",
    "    sequence = [] #collect 50 frames to make a sequence(=video)\n",
    "    sentence = [] #concatenate history of predictions together\n",
    "    threshold = 0.999\n",
    "\n",
    "    cap = cv2.VideoCapture(video)\n",
    "    \n",
    "    # Set mediapipe model \n",
    "    with mp_holistic.Holistic(min_detection_confidence=0.5, min_tracking_confidence=0.5) as holistic:\n",
    "        while cap.isOpened():\n",
    "            # Read video\n",
    "            ret, frame = cap.read()\n",
    "            if ret == False:\n",
    "                break\n",
    "                \n",
    "            # Make detections\n",
    "            image, results = mediapipe_detection(frame, holistic)\n",
    "            print(results)\n",
    "            # Draw landmarks\n",
    "            draw_styled_landmarks(image, results)\n",
    "\n",
    "            # 2. Prediction logic\n",
    "            keypoints = extract_keypoints(results)\n",
    "            sequence.append(keypoints)\n",
    "            sequence = sequence[-50:] \n",
    "            if len(sequence) == 50:\n",
    "                res = model.predict(np.expand_dims(sequence, axis=0))[0]\n",
    "                print(actions[np.argmax(res)])\n",
    "\n",
    "                #3. Rendering logic\n",
    "                if res[np.argmax(res)] > threshold: \n",
    "                    cur_action_korean = actions_korean[np.argmax(res)]\n",
    "\n",
    "                    if len(sentence) > 0: \n",
    "                        #sentence에 저장된 prediction이 있는 경우 \n",
    "                        #새로운 prediction인 경우에만 sentence에 추가\n",
    "                        if cur_action_korean != sentence[-1]:\n",
    "                            sentence.append(cur_action_korean)\n",
    "                    else: \n",
    "                        #sentence에 저장된 prediction 없는 경우 바로 sentence에 추가\n",
    "                        sentence.append(cur_action_korean)\n",
    "\n",
    "                #sentence가 너무 길어지지 않도록 마지막 5개의 prediction만 유지\n",
    "                if len(sentence) > 5: \n",
    "                    sentence = sentence[-5:]\n",
    "\n",
    "        \n",
    "                cv2.rectangle(image, (0,0), (640, 40), (0, 0, 0), -1) \n",
    "                #putKoreanText(src, text, pos, font_size, font_color\n",
    "                image = putKoreanText(image, ' '.join(sentence), (3,10), 20, (255, 255, 255))\n",
    "\n",
    "\n",
    "                # Show to screen\n",
    "                cv2.imshow('Video Prediction', image)\n",
    "\n",
    "            # Break gracefully\n",
    "            if cv2.waitKey(10) & 0xFF == ord('q'):\n",
    "                break\n",
    "\n",
    "    cap.release()\n",
    "    cv2.destroyAllWindows()"
   ]
  },
  {
   "cell_type": "code",
   "execution_count": null,
   "metadata": {
    "scrolled": true
   },
   "outputs": [],
   "source": [
    "curDir = \"C:/Users/wjdgu/OneDrive/바탕 화면/문장/아래집에불이났어요\"\n",
    "for file in os.listdir(curDir):\n",
    "    if(file.endswith(\".mp4\")):\n",
    "        path = os.path.join(curDir, file)\n",
    "        video_prediction(path)"
   ]
  }
 ],
 "metadata": {
  "kernelspec": {
   "display_name": "Python 3 (ipykernel)",
   "language": "python",
   "name": "python3"
  },
  "language_info": {
   "codemirror_mode": {
    "name": "ipython",
    "version": 3
   },
   "file_extension": ".py",
   "mimetype": "text/x-python",
   "name": "python",
   "nbconvert_exporter": "python",
   "pygments_lexer": "ipython3",
   "version": "3.9.16"
  }
 },
 "nbformat": 4,
 "nbformat_minor": 2
}
